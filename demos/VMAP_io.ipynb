{
 "cells": [
  {
   "cell_type": "markdown",
   "metadata": {
    "ein.tags": "worksheet-0",
    "slideshow": {
     "slide_type": "-"
    }
   },
   "source": [
    "# Stress gradient calculation\n",
    "\n",
    "This demo shows the stress gradient calculation module. A gradient is calculated by fitting a plane into a node and its neighbor nodes of an FEM mesh.\n",
    "\n",
    "See [documentation](https://pylife.readthedocs.io/en/latest/mesh/gradient.html) for details on the module."
   ]
  },
  {
   "cell_type": "code",
   "execution_count": 1,
   "metadata": {},
   "outputs": [],
   "source": [
    "import numpy as np\n",
    "import pandas as pd\n",
    "import pylife.vmap\n",
    "import pylife.stress.equistress\n",
    "import pyvista as pv"
   ]
  },
  {
   "cell_type": "markdown",
   "metadata": {
    "ein.tags": "worksheet-0",
    "slideshow": {
     "slide_type": "-"
    }
   },
   "source": [
    "Read in demo data and add the stress tensor dimensions for the third dimension."
   ]
  },
  {
   "cell_type": "code",
   "execution_count": 2,
   "metadata": {},
   "outputs": [],
   "source": [
    "vm_mesh = pylife.vmap.VMAP(\"plate_with_hole.vmap\")"
   ]
  },
  {
   "cell_type": "code",
   "execution_count": 3,
   "metadata": {},
   "outputs": [
    {
     "data": {
      "text/html": [
       "<div>\n",
       "<style scoped>\n",
       "    .dataframe tbody tr th:only-of-type {\n",
       "        vertical-align: middle;\n",
       "    }\n",
       "\n",
       "    .dataframe tbody tr th {\n",
       "        vertical-align: top;\n",
       "    }\n",
       "\n",
       "    .dataframe thead th {\n",
       "        text-align: right;\n",
       "    }\n",
       "</style>\n",
       "<table border=\"1\" class=\"dataframe\">\n",
       "  <thead>\n",
       "    <tr style=\"text-align: right;\">\n",
       "      <th></th>\n",
       "      <th></th>\n",
       "      <th>x</th>\n",
       "      <th>y</th>\n",
       "      <th>z</th>\n",
       "    </tr>\n",
       "    <tr>\n",
       "      <th>element_id</th>\n",
       "      <th>node_id</th>\n",
       "      <th></th>\n",
       "      <th></th>\n",
       "      <th></th>\n",
       "    </tr>\n",
       "  </thead>\n",
       "  <tbody>\n",
       "    <tr>\n",
       "      <th rowspan=\"5\" valign=\"top\">1</th>\n",
       "      <th>1734</th>\n",
       "      <td>14.897208</td>\n",
       "      <td>5.269875</td>\n",
       "      <td>0.0</td>\n",
       "    </tr>\n",
       "    <tr>\n",
       "      <th>1582</th>\n",
       "      <td>14.555333</td>\n",
       "      <td>5.355806</td>\n",
       "      <td>0.0</td>\n",
       "    </tr>\n",
       "    <tr>\n",
       "      <th>1596</th>\n",
       "      <td>14.630658</td>\n",
       "      <td>4.908741</td>\n",
       "      <td>0.0</td>\n",
       "    </tr>\n",
       "    <tr>\n",
       "      <th>4923</th>\n",
       "      <td>14.726271</td>\n",
       "      <td>5.312840</td>\n",
       "      <td>0.0</td>\n",
       "    </tr>\n",
       "    <tr>\n",
       "      <th>4924</th>\n",
       "      <td>14.592996</td>\n",
       "      <td>5.132274</td>\n",
       "      <td>0.0</td>\n",
       "    </tr>\n",
       "    <tr>\n",
       "      <th>...</th>\n",
       "      <th>...</th>\n",
       "      <td>...</td>\n",
       "      <td>...</td>\n",
       "      <td>...</td>\n",
       "    </tr>\n",
       "    <tr>\n",
       "      <th rowspan=\"5\" valign=\"top\">4770</th>\n",
       "      <th>3812</th>\n",
       "      <td>-13.189782</td>\n",
       "      <td>-5.691876</td>\n",
       "      <td>0.0</td>\n",
       "    </tr>\n",
       "    <tr>\n",
       "      <th>12418</th>\n",
       "      <td>-13.560289</td>\n",
       "      <td>-5.278386</td>\n",
       "      <td>0.0</td>\n",
       "    </tr>\n",
       "    <tr>\n",
       "      <th>14446</th>\n",
       "      <td>-13.673285</td>\n",
       "      <td>-5.569107</td>\n",
       "      <td>0.0</td>\n",
       "    </tr>\n",
       "    <tr>\n",
       "      <th>14614</th>\n",
       "      <td>-13.389065</td>\n",
       "      <td>-5.709927</td>\n",
       "      <td>0.0</td>\n",
       "    </tr>\n",
       "    <tr>\n",
       "      <th>14534</th>\n",
       "      <td>-13.276068</td>\n",
       "      <td>-5.419206</td>\n",
       "      <td>0.0</td>\n",
       "    </tr>\n",
       "  </tbody>\n",
       "</table>\n",
       "<p>37884 rows × 3 columns</p>\n",
       "</div>"
      ],
      "text/plain": [
       "                            x         y    z\n",
       "element_id node_id                          \n",
       "1          1734     14.897208  5.269875  0.0\n",
       "           1582     14.555333  5.355806  0.0\n",
       "           1596     14.630658  4.908741  0.0\n",
       "           4923     14.726271  5.312840  0.0\n",
       "           4924     14.592996  5.132274  0.0\n",
       "...                       ...       ...  ...\n",
       "4770       3812    -13.189782 -5.691876  0.0\n",
       "           12418   -13.560289 -5.278386  0.0\n",
       "           14446   -13.673285 -5.569107  0.0\n",
       "           14614   -13.389065 -5.709927  0.0\n",
       "           14534   -13.276068 -5.419206  0.0\n",
       "\n",
       "[37884 rows x 3 columns]"
      ]
     },
     "execution_count": 3,
     "metadata": {},
     "output_type": "execute_result"
    }
   ],
   "source": [
    "vm_mesh.mesh_coords(\"1\")"
   ]
  },
  {
   "cell_type": "code",
   "execution_count": 4,
   "metadata": {},
   "outputs": [
    {
     "data": {
      "text/html": [
       "<div>\n",
       "<style scoped>\n",
       "    .dataframe tbody tr th:only-of-type {\n",
       "        vertical-align: middle;\n",
       "    }\n",
       "\n",
       "    .dataframe tbody tr th {\n",
       "        vertical-align: top;\n",
       "    }\n",
       "\n",
       "    .dataframe thead th {\n",
       "        text-align: right;\n",
       "    }\n",
       "</style>\n",
       "<table border=\"1\" class=\"dataframe\">\n",
       "  <thead>\n",
       "    <tr style=\"text-align: right;\">\n",
       "      <th></th>\n",
       "      <th></th>\n",
       "      <th>x</th>\n",
       "      <th>y</th>\n",
       "      <th>z</th>\n",
       "      <th>S11</th>\n",
       "      <th>S22</th>\n",
       "      <th>S33</th>\n",
       "      <th>S12</th>\n",
       "      <th>S13</th>\n",
       "      <th>S23</th>\n",
       "      <th>dx</th>\n",
       "      <th>dy</th>\n",
       "      <th>dz</th>\n",
       "    </tr>\n",
       "    <tr>\n",
       "      <th>element_id</th>\n",
       "      <th>node_id</th>\n",
       "      <th></th>\n",
       "      <th></th>\n",
       "      <th></th>\n",
       "      <th></th>\n",
       "      <th></th>\n",
       "      <th></th>\n",
       "      <th></th>\n",
       "      <th></th>\n",
       "      <th></th>\n",
       "      <th></th>\n",
       "      <th></th>\n",
       "      <th></th>\n",
       "    </tr>\n",
       "  </thead>\n",
       "  <tbody>\n",
       "    <tr>\n",
       "      <th>4713</th>\n",
       "      <th>4667</th>\n",
       "      <td>-12.290524</td>\n",
       "      <td>-5.582485</td>\n",
       "      <td>0.0</td>\n",
       "      <td>35.561584</td>\n",
       "      <td>1.621323</td>\n",
       "      <td>0.0</td>\n",
       "      <td>-15.232392</td>\n",
       "      <td>0.0</td>\n",
       "      <td>0.0</td>\n",
       "      <td>-0.005175</td>\n",
       "      <td>0.000063</td>\n",
       "      <td>0.0</td>\n",
       "    </tr>\n",
       "    <tr>\n",
       "      <th>3659</th>\n",
       "      <th>4174</th>\n",
       "      <td>-13.612119</td>\n",
       "      <td>-8.600292</td>\n",
       "      <td>0.0</td>\n",
       "      <td>53.012203</td>\n",
       "      <td>0.048595</td>\n",
       "      <td>0.0</td>\n",
       "      <td>-3.005789</td>\n",
       "      <td>0.0</td>\n",
       "      <td>0.0</td>\n",
       "      <td>-0.004919</td>\n",
       "      <td>0.000183</td>\n",
       "      <td>0.0</td>\n",
       "    </tr>\n",
       "    <tr>\n",
       "      <th>3102</th>\n",
       "      <th>11594</th>\n",
       "      <td>18.030689</td>\n",
       "      <td>-7.039535</td>\n",
       "      <td>0.0</td>\n",
       "      <td>32.276665</td>\n",
       "      <td>2.461891</td>\n",
       "      <td>0.0</td>\n",
       "      <td>4.239051</td>\n",
       "      <td>0.0</td>\n",
       "      <td>0.0</td>\n",
       "      <td>0.005602</td>\n",
       "      <td>-0.000042</td>\n",
       "      <td>0.0</td>\n",
       "    </tr>\n",
       "    <tr>\n",
       "      <th>3103</th>\n",
       "      <th>11597</th>\n",
       "      <td>10.181469</td>\n",
       "      <td>-1.998228</td>\n",
       "      <td>0.0</td>\n",
       "      <td>3.110107</td>\n",
       "      <td>-10.845884</td>\n",
       "      <td>0.0</td>\n",
       "      <td>7.932069</td>\n",
       "      <td>0.0</td>\n",
       "      <td>0.0</td>\n",
       "      <td>0.005582</td>\n",
       "      <td>0.000116</td>\n",
       "      <td>0.0</td>\n",
       "    </tr>\n",
       "    <tr>\n",
       "      <th>4383</th>\n",
       "      <th>14073</th>\n",
       "      <td>-18.135668</td>\n",
       "      <td>-4.415386</td>\n",
       "      <td>0.0</td>\n",
       "      <td>29.872982</td>\n",
       "      <td>8.512387</td>\n",
       "      <td>0.0</td>\n",
       "      <td>-6.046775</td>\n",
       "      <td>0.0</td>\n",
       "      <td>0.0</td>\n",
       "      <td>-0.006201</td>\n",
       "      <td>-0.000085</td>\n",
       "      <td>0.0</td>\n",
       "    </tr>\n",
       "    <tr>\n",
       "      <th>1707</th>\n",
       "      <th>8914</th>\n",
       "      <td>-13.263470</td>\n",
       "      <td>6.189435</td>\n",
       "      <td>0.0</td>\n",
       "      <td>39.608391</td>\n",
       "      <td>1.664300</td>\n",
       "      <td>0.0</td>\n",
       "      <td>13.795775</td>\n",
       "      <td>0.0</td>\n",
       "      <td>0.0</td>\n",
       "      <td>-0.005157</td>\n",
       "      <td>-0.000059</td>\n",
       "      <td>0.0</td>\n",
       "    </tr>\n",
       "    <tr>\n",
       "      <th>865</th>\n",
       "      <th>1181</th>\n",
       "      <td>18.610849</td>\n",
       "      <td>3.500688</td>\n",
       "      <td>0.0</td>\n",
       "      <td>29.455849</td>\n",
       "      <td>12.302162</td>\n",
       "      <td>0.0</td>\n",
       "      <td>-4.817523</td>\n",
       "      <td>0.0</td>\n",
       "      <td>0.0</td>\n",
       "      <td>0.006084</td>\n",
       "      <td>0.000116</td>\n",
       "      <td>0.0</td>\n",
       "    </tr>\n",
       "    <tr>\n",
       "      <th>610</th>\n",
       "      <th>812</th>\n",
       "      <td>5.199049</td>\n",
       "      <td>6.111510</td>\n",
       "      <td>0.0</td>\n",
       "      <td>67.544090</td>\n",
       "      <td>-2.337296</td>\n",
       "      <td>0.0</td>\n",
       "      <td>-1.545738</td>\n",
       "      <td>0.0</td>\n",
       "      <td>0.0</td>\n",
       "      <td>0.003013</td>\n",
       "      <td>-0.002720</td>\n",
       "      <td>0.0</td>\n",
       "    </tr>\n",
       "    <tr>\n",
       "      <th>466</th>\n",
       "      <th>704</th>\n",
       "      <td>7.291068</td>\n",
       "      <td>2.912279</td>\n",
       "      <td>0.0</td>\n",
       "      <td>-12.341468</td>\n",
       "      <td>-18.240107</td>\n",
       "      <td>0.0</td>\n",
       "      <td>14.554960</td>\n",
       "      <td>0.0</td>\n",
       "      <td>0.0</td>\n",
       "      <td>0.005290</td>\n",
       "      <td>-0.001148</td>\n",
       "      <td>0.0</td>\n",
       "    </tr>\n",
       "    <tr>\n",
       "      <th>1341</th>\n",
       "      <th>7675</th>\n",
       "      <td>-8.476871</td>\n",
       "      <td>6.481838</td>\n",
       "      <td>0.0</td>\n",
       "      <td>52.288864</td>\n",
       "      <td>-4.046803</td>\n",
       "      <td>0.0</td>\n",
       "      <td>11.934652</td>\n",
       "      <td>0.0</td>\n",
       "      <td>0.0</td>\n",
       "      <td>-0.003994</td>\n",
       "      <td>-0.000867</td>\n",
       "      <td>0.0</td>\n",
       "    </tr>\n",
       "  </tbody>\n",
       "</table>\n",
       "</div>"
      ],
      "text/plain": [
       "                            x         y    z        S11        S22  S33  \\\n",
       "element_id node_id                                                        \n",
       "4713       4667    -12.290524 -5.582485  0.0  35.561584   1.621323  0.0   \n",
       "3659       4174    -13.612119 -8.600292  0.0  53.012203   0.048595  0.0   \n",
       "3102       11594    18.030689 -7.039535  0.0  32.276665   2.461891  0.0   \n",
       "3103       11597    10.181469 -1.998228  0.0   3.110107 -10.845884  0.0   \n",
       "4383       14073   -18.135668 -4.415386  0.0  29.872982   8.512387  0.0   \n",
       "1707       8914    -13.263470  6.189435  0.0  39.608391   1.664300  0.0   \n",
       "865        1181     18.610849  3.500688  0.0  29.455849  12.302162  0.0   \n",
       "610        812       5.199049  6.111510  0.0  67.544090  -2.337296  0.0   \n",
       "466        704       7.291068  2.912279  0.0 -12.341468 -18.240107  0.0   \n",
       "1341       7675     -8.476871  6.481838  0.0  52.288864  -4.046803  0.0   \n",
       "\n",
       "                          S12  S13  S23        dx        dy   dz  \n",
       "element_id node_id                                                \n",
       "4713       4667    -15.232392  0.0  0.0 -0.005175  0.000063  0.0  \n",
       "3659       4174     -3.005789  0.0  0.0 -0.004919  0.000183  0.0  \n",
       "3102       11594     4.239051  0.0  0.0  0.005602 -0.000042  0.0  \n",
       "3103       11597     7.932069  0.0  0.0  0.005582  0.000116  0.0  \n",
       "4383       14073    -6.046775  0.0  0.0 -0.006201 -0.000085  0.0  \n",
       "1707       8914     13.795775  0.0  0.0 -0.005157 -0.000059  0.0  \n",
       "865        1181     -4.817523  0.0  0.0  0.006084  0.000116  0.0  \n",
       "610        812      -1.545738  0.0  0.0  0.003013 -0.002720  0.0  \n",
       "466        704      14.554960  0.0  0.0  0.005290 -0.001148  0.0  \n",
       "1341       7675     11.934652  0.0  0.0 -0.003994 -0.000867  0.0  "
      ]
     },
     "execution_count": 4,
     "metadata": {},
     "output_type": "execute_result"
    }
   ],
   "source": [
    "pyLife_mesh = (vm_mesh.mesh_coords('1')\n",
    "                    .join(vm_mesh.variable('1', 'STATE-2', 'STRESS_CAUCHY'))\n",
    "                    .join(vm_mesh.variable('1', 'STATE-2', 'DISPLACEMENT')))\n",
    "pyLife_mesh.sample(10)"
   ]
  },
  {
   "cell_type": "code",
   "execution_count": 5,
   "metadata": {},
   "outputs": [],
   "source": [
    "pyLife_mesh['mises'] = pyLife_mesh.equistress.mises()"
   ]
  },
  {
   "cell_type": "markdown",
   "metadata": {},
   "source": [
    "## We will use Pyvista for plotting FEM in the future\n",
    "\n",
    "still work in progress, sorry dudes"
   ]
  },
  {
   "cell_type": "code",
   "execution_count": 13,
   "metadata": {},
   "outputs": [
    {
     "data": {
      "image/png": "[encoded data removed]",
      "text/plain": [
       "<PIL.Image.Image image mode=RGB size=1024x768 at 0x14184338520>"
      ]
     },
     "metadata": {},
     "output_type": "display_data"
    },
    {
     "data": {
      "text/plain": [
       "[(48.92329286329271, 48.92329286329271, 48.92329286329271),\n",
       " (0.0, 0.0, 0.0),\n",
       " (0.0, 0.0, 1.0)]"
      ]
     },
     "execution_count": 13,
     "metadata": {},
     "output_type": "execute_result"
    }
   ],
   "source": [
    "from pyvista import examples\n",
    "pyLife_nodes = pyLife_mesh.groupby('node_id').mean()\n",
    "mesh = pv.PolyData(pyLife_nodes[['x', 'y', 'z']].values)\n",
    "mesh.point_arrays[\"mises\"] = pyLife_nodes[\"mises\"].values\n",
    "mesh.plot(scalars=\"mises\")"
   ]
  },
  {
   "cell_type": "markdown",
   "metadata": {},
   "source": [
    "### if you are using jupyter-lab you can use some lines, too:\n",
    "for more information see here: https://pyvista-doc.readthedocs.io/en/latest/plotting/itk_plotting.html"
   ]
  },
  {
   "cell_type": "code",
   "execution_count": 8,
   "metadata": {},
   "outputs": [
    {
     "data": {
      "application/vnd.jupyter.widget-view+json": {
       "model_id": "4670635733064c339ea8854fb10bccd7",
       "version_major": 2,
       "version_minor": 0
      },
      "text/plain": [
       "Viewer(geometries=[{'vtkClass': 'vtkPolyData', 'points': {'vtkClass': 'vtkPoints', 'name': '_points', 'numberO…"
      ]
     },
     "metadata": {},
     "output_type": "display_data"
    },
    {
     "data": {
      "application/vnd.jupyter.widget-view+json": {
       "model_id": "4670635733064c339ea8854fb10bccd7",
       "version_major": 2,
       "version_minor": 0
      },
      "text/plain": [
       "Viewer(geometries=[{'vtkClass': 'vtkPolyData', 'points': {'vtkClass': 'vtkPoints', 'name': '_points', 'numberO…"
      ]
     },
     "metadata": {},
     "output_type": "display_data"
    }
   ],
   "source": [
    "pl = pv.PlotterITK()\n",
    "pl.add_mesh(mesh, scalars=\"mises\", smooth_shading=True)\n",
    "pl.show(True)"
   ]
  },
  {
   "cell_type": "code",
   "execution_count": 9,
   "metadata": {},
   "outputs": [
    {
     "data": {
      "application/vnd.jupyter.widget-view+json": {
       "model_id": "02d7ed79bf234cc5a5a357c2abf14c7e",
       "version_major": 2,
       "version_minor": 0
      },
      "text/plain": [
       "Viewer(geometries=[{'vtkClass': 'vtkPolyData', 'points': {'vtkClass': 'vtkPoints', 'name': '_points', 'numberO…"
      ]
     },
     "metadata": {},
     "output_type": "display_data"
    },
    {
     "data": {
      "application/vnd.jupyter.widget-view+json": {
       "model_id": "02d7ed79bf234cc5a5a357c2abf14c7e",
       "version_major": 2,
       "version_minor": 0
      },
      "text/plain": [
       "Viewer(geometries=[{'vtkClass': 'vtkPolyData', 'points': {'vtkClass': 'vtkPoints', 'name': '_points', 'numberO…"
      ]
     },
     "metadata": {},
     "output_type": "display_data"
    }
   ],
   "source": [
    "pv.plot_itk(mesh, scalars=\"mises\")"
   ]
  },
  {
   "cell_type": "code",
   "execution_count": null,
   "metadata": {},
   "outputs": [],
   "source": []
  }
 ],
 "metadata": {
  "kernelspec": {
   "display_name": "Python 3",
   "language": "python",
   "name": "python3"
  },
  "language_info": {
   "codemirror_mode": {
    "name": "ipython",
    "version": 3
   },
   "file_extension": ".py",
   "mimetype": "text/x-python",
   "name": "python",
   "nbconvert_exporter": "python",
   "pygments_lexer": "ipython3",
   "version": "3.8.5"
  },
  "name": "stress_gradient.ipynb"
 },
 "nbformat": 4,
 "nbformat_minor": 4
}
