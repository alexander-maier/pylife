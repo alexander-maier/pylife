{
 "cells": [
  {
   "cell_type": "markdown",
   "metadata": {
    "ein.tags": "worksheet-0",
    "slideshow": {
     "slide_type": "-"
    }
   },
   "source": [
    "# Stress gradient calculation\n",
    "\n",
    "This demo shows the stress gradient calculation module. A gradient is calculated by fitting a plane into a node and its neighbor nodes of an FEM mesh.\n",
    "\n",
    "See [documentation](https://pylife.readthedocs.io/en/latest/mesh/gradient.html) for details on the module."
   ]
  },
  {
   "cell_type": "code",
   "execution_count": null,
   "metadata": {},
   "outputs": [],
   "source": [
    "import numpy as np\n",
    "import pandas as pd\n",
    "\n",
    "import pylife.stress.equistress\n",
    "import pylife.mesh.gradient\n",
    "import pylife.vmap\n",
    "\n",
    "import pyvista as pv"
   ]
  },
  {
   "cell_type": "markdown",
   "metadata": {
    "ein.tags": "worksheet-0",
    "slideshow": {
     "slide_type": "-"
    }
   },
   "source": [
    "Read in demo data and add the stress tensor dimensions for the third dimension."
   ]
  },
  {
   "cell_type": "code",
   "execution_count": null,
   "metadata": {},
   "outputs": [],
   "source": [
    "vm_mesh = pylife.vmap.VMAPImport(\"plate_with_hole.vmap\")\n",
    "pyLife_mesh = (vm_mesh.make_mesh('1', 'STATE-2')\n",
    "               .join_coordinates()\n",
    "               .join_variable('STRESS_CAUCHY')\n",
    "               .join_variable('DISPLACEMENT')\n",
    "               .to_frame())"
   ]
  },
  {
   "cell_type": "markdown",
   "metadata": {
    "ein.tags": "worksheet-0",
    "slideshow": {
     "slide_type": "-"
    }
   },
   "source": [
    "Calculate and add von Mises stress"
   ]
  },
  {
   "cell_type": "code",
   "execution_count": null,
   "metadata": {},
   "outputs": [],
   "source": [
    "pyLife_mesh['mises'] = pyLife_mesh.equistress.mises()"
   ]
  },
  {
   "cell_type": "markdown",
   "metadata": {
    "ein.tags": "worksheet-0",
    "slideshow": {
     "slide_type": "-"
    }
   },
   "source": [
    "Calculate stress gradient on von Mises stress"
   ]
  },
  {
   "cell_type": "code",
   "execution_count": null,
   "metadata": {},
   "outputs": [],
   "source": [
    "# pyLife_mesh[\"grad\"] = pyLife_mesh.gradient.gradient_of('mises')\n",
    "grad = pyLife_mesh.gradient.gradient_of('mises')"
   ]
  },
  {
   "cell_type": "code",
   "execution_count": null,
   "metadata": {},
   "outputs": [],
   "source": [
    "pyLife_nodes = pd.concat([pyLife_mesh.groupby('node_id').mean(), grad], axis=1)\n",
    "pyLife_nodes[\"abs_grad\"] = np.linalg.norm(grad,axis = 1)\n",
    "display(pyLife_nodes)\n"
   ]
  },
  {
   "cell_type": "code",
   "execution_count": null,
   "metadata": {},
   "outputs": [],
   "source": [
    "mesh = pv.PolyData(pyLife_nodes[['x', 'y', 'z']].values)\n",
    "mesh.point_arrays[\"abs_grad\"] = pyLife_nodes[\"abs_grad\"].values\n",
    "mesh.plot(scalars=\"abs_grad\",log_scale = False)"
   ]
  }
 ],
 "metadata": {
  "kernelspec": {
   "display_name": "Python 3",
   "language": "python",
   "name": "python3"
  },
  "language_info": {
   "codemirror_mode": {
    "name": "ipython",
    "version": 3
   },
   "file_extension": ".py",
   "mimetype": "text/x-python",
   "name": "python",
   "nbconvert_exporter": "python",
   "pygments_lexer": "ipython3",
   "version": "3.8.5"
  },
  "name": "stress_gradient.ipynb"
 },
 "nbformat": 4,
 "nbformat_minor": 2
}
