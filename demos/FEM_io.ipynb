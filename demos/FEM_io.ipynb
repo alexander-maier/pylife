{
 "cells": [
  {
   "cell_type": "markdown",
   "metadata": {
    "ein.tags": "worksheet-0",
    "slideshow": {
     "slide_type": "-"
    }
   },
   "source": [
    "# io of different FE data\n",
    "\n",
    "* VMAP io\n",
    "* Ansys io\n",
    "* Abaqus io (still in progress)"
   ]
  },
  {
   "cell_type": "code",
   "execution_count": null,
   "metadata": {},
   "outputs": [],
   "source": [
    "import numpy as np\n",
    "import pandas as pd\n",
    "import pylife.vmap\n",
    "import pylife.stress.equistress\n",
    "import pylife.mesh.gradient\n",
    "import pyvista as pv\n",
    "from ansys.mapdl import reader as pymapdl_reader"
   ]
  },
  {
   "cell_type": "markdown",
   "metadata": {
    "ein.tags": "worksheet-0",
    "slideshow": {
     "slide_type": "-"
    }
   },
   "source": [
    "### VMAP"
   ]
  },
  {
   "cell_type": "code",
   "execution_count": null,
   "metadata": {},
   "outputs": [],
   "source": [
    "vm_mesh = pylife.vmap.VMAPImport(\"plate_with_hole.vmap\")"
   ]
  },
  {
   "cell_type": "code",
   "execution_count": null,
   "metadata": {},
   "outputs": [],
   "source": [
    "pyLife_mesh = (vm_mesh.make_mesh('1', 'STATE-2')\n",
    "               .join_coordinates()\n",
    "               .join_variable('STRESS_CAUCHY')\n",
    "               .join_variable('DISPLACEMENT')\n",
    "               .to_frame())\n",
    "pyLife_mesh.sample(5)"
   ]
  },
  {
   "cell_type": "code",
   "execution_count": null,
   "metadata": {},
   "outputs": [],
   "source": [
    "pyLife_mesh['mises'] = pyLife_mesh.equistress.mises()\n",
    "pyLife_mesh.sample(5)"
   ]
  },
  {
   "cell_type": "markdown",
   "metadata": {},
   "source": [
    "We are using Pyvista for plotting FEM \n",
    "\n",
    "still work in progress, sorry dudes"
   ]
  },
  {
   "cell_type": "code",
   "execution_count": null,
   "metadata": {},
   "outputs": [],
   "source": [
    "pyLife_nodes = pyLife_mesh.groupby('node_id').mean()\n",
    "mesh = pv.PolyData(pyLife_nodes[['x', 'y', 'z']].values)\n",
    "mesh.point_arrays[\"mises\"] = pyLife_nodes[\"mises\"].values\n",
    "# mesh.plot(scalars=\"mises\")"
   ]
  },
  {
   "cell_type": "markdown",
   "metadata": {},
   "source": [
    "or using itk (for more information see here: https://pyvista-doc.readthedocs.io/en/latest/plotting/itk_plotting.html)"
   ]
  },
  {
   "cell_type": "code",
   "execution_count": null,
   "metadata": {},
   "outputs": [],
   "source": [
    "# pl = pv.PlotterITK()\n",
    "# pl.add_mesh(mesh, scalars=\"mises\", smooth_shading=True)\n",
    "# pl.show(True)\n",
    "pyLife_mesh.columns"
   ]
  },
  {
   "cell_type": "markdown",
   "metadata": {},
   "source": [
    "#### output to vmap\n",
    "\n",
    "you can export vmap data easily to read in this data into Ansys, Abaqus and so on"
   ]
  },
  {
   "cell_type": "code",
   "execution_count": null,
   "metadata": {},
   "outputs": [],
   "source": [
    "vmap_out = pylife.vmap.VMAPExport(\"vmap_export.vmap\")\n",
    "vmap_out.add_geometry(\"GEOMETRY_1\", pyLife_mesh)\n",
    "vmap_out.add_variable(\"2\",\"GEOMETRY_1\",\"mises\",pyLife_mesh,[\"mises\"],2)"
   ]
  },
  {
   "cell_type": "code",
   "execution_count": null,
   "metadata": {},
   "outputs": [],
   "source": [
    "import_test = pylife.vmap.VMAPImport(\"vmap_export.vmap\")\n",
    "import_test.nodes('GEOMETRY_1')\n",
    "meshimp=import_test.make_mesh('GEOMETRY_1')\n",
    "meshimp.join_coordinates().join_variable('mises', state=\"2\", column_names=[\"mises\"])\n",
    "meshimp.to_frame()"
   ]
  },
  {
   "cell_type": "markdown",
   "metadata": {},
   "source": [
    "### ANSYS"
   ]
  },
  {
   "cell_type": "code",
   "execution_count": null,
   "metadata": {},
   "outputs": [],
   "source": [
    "result = pymapdl_reader.read_binary('beam.rst')\n",
    "elem_df = pd.DataFrame(result.mesh.elem).iloc[:,10:]\n",
    "elem_df[\"element_id\"] = pd.DataFrame(result.mesh.elem).iloc[:,8]\n",
    "index_mesh = pd.DataFrame(index=pd.MultiIndex.from_frame(\n",
    "    pd.melt(elem_df, id_vars=\"element_id\", value_name=\"node_id\").drop(\"variable\",axis=1)))\n",
    "nnum, stress = result.nodal_stress(0)\n",
    "ansys_mesh = pd.DataFrame(data=np.concatenate((result.mesh.nodes,stress), axis=1),\n",
    "                          index=nnum,\n",
    "                          columns=['x', 'y', 'z', 'S11', 'S22', 'S33', 'S12', 'S23', 'S13']).dropna()\n",
    "ansys_mesh.index.name = \"node_id\"\n",
    "ansys_df = index_mesh.join(ansys_mesh).dropna()\n",
    "display(ansys_df)"
   ]
  },
  {
   "cell_type": "code",
   "execution_count": null,
   "metadata": {},
   "outputs": [],
   "source": [
    "# calculate the stress gradient\n",
    "ansys_df['mises'] = ansys_df.equistress.mises()"
   ]
  },
  {
   "cell_type": "code",
   "execution_count": null,
   "metadata": {},
   "outputs": [],
   "source": [
    "grad = ansys_df.gradient.gradient_of('mises')\n",
    "grad[\"gradient_abs\"]=np.linalg.norm(grad, axis=1)\n",
    "ansys_df = ansys_df.join(grad)\n",
    "ansys_df"
   ]
  },
  {
   "cell_type": "code",
   "execution_count": null,
   "metadata": {},
   "outputs": [],
   "source": [
    "# You can use the pyansys API or working directly with the pyLife dataframe as above\n",
    "result.plot_principal_nodal_stress(0, 'SEQV')"
   ]
  },
  {
   "cell_type": "code",
   "execution_count": null,
   "metadata": {},
   "outputs": [],
   "source": [
    "# or you can use the pyLife-vtk API\n",
    "nodes = ansys_df.groupby('node_id').mean()\n",
    "mesh = pv.PolyData(nodes[['x', 'y', 'z']].values)\n",
    "mesh.point_arrays[\"gradient_abs\"] = np.log10(nodes[\"gradient_abs\"].values)\n",
    "mesh.plot(scalars=\"gradient_abs\")"
   ]
  },
  {
   "cell_type": "code",
   "execution_count": null,
   "metadata": {},
   "outputs": [],
   "source": [
    "pl = pv.PlotterITK()\n",
    "pl.add_mesh(mesh, scalars=\"gradient_abs\", smooth_shading=True)\n",
    "pl.show(True)"
   ]
  },
  {
   "cell_type": "code",
   "execution_count": null,
   "metadata": {},
   "outputs": [],
   "source": [
    "nodes[\"gradient_abs\"]"
   ]
  },
  {
   "cell_type": "code",
   "execution_count": null,
   "metadata": {},
   "outputs": [],
   "source": []
  }
 ],
 "metadata": {
  "kernelspec": {
   "display_name": "Python 3",
   "language": "python",
   "name": "python3"
  },
  "language_info": {
   "codemirror_mode": {
    "name": "ipython",
    "version": 3
   },
   "file_extension": ".py",
   "mimetype": "text/x-python",
   "name": "python",
   "nbconvert_exporter": "python",
   "pygments_lexer": "ipython3",
   "version": "3.8.5"
  },
  "name": "VMAP_io.ipynb"
 },
 "nbformat": 4,
 "nbformat_minor": 4
}
