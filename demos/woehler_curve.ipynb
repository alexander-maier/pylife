{
 "cells": [
  {
   "cell_type": "markdown",
   "id": "79bdf1fa",
   "metadata": {},
   "source": [
    "# The `WoehlerCurve` data structure\n",
    "\n",
    "The [`WoehlerCurve`](https://pylife.readthedocs.io/en/latest/materiallaws/woehlercurve.html) is the basis of pyLife's fatigue assessment functionality. It handles pandas objects containing data describing a Wöhler curve."
   ]
  },
  {
   "cell_type": "code",
   "execution_count": null,
   "id": "082237f6",
   "metadata": {},
   "outputs": [],
   "source": [
    "import pandas as pd\n",
    "import numpy as np\n",
    "from pylife.materiallaws import WoehlerCurve\n",
    "import matplotlib.pyplot as plt"
   ]
  },
  {
   "cell_type": "markdown",
   "id": "d31d3915",
   "metadata": {},
   "source": [
    "## The very basic Wöhler curve data\n",
    "\n",
    "The basic Wöhler curve is a `pandas.Series` that contains at least three keys,\n",
    "* `SD`: the load level of the endurance limit\n",
    "* `ND`: the cycle number of the endurance limit\n",
    "* `k_1`: the slope of the Wöhler Curve"
   ]
  },
  {
   "cell_type": "code",
   "execution_count": null,
   "id": "1f455fe8",
   "metadata": {},
   "outputs": [],
   "source": [
    "woehler_curve_data = pd.Series({\n",
    "    'SD': 300.,\n",
    "    'ND': 1.5e6,\n",
    "    'k_1': 6.2,\n",
    "})\n",
    "woehler_curve_data"
   ]
  },
  {
   "cell_type": "code",
   "execution_count": null,
   "id": "a47f08cc",
   "metadata": {},
   "outputs": [],
   "source": [
    "wc = WoehlerCurve(woehler_curve_data)\n",
    "#wc = woehler_curve_data.woehler (alternative way of writing it)\n",
    "wc.SD, wc.ND, wc.k_1"
   ]
  },
  {
   "cell_type": "code",
   "execution_count": null,
   "id": "2df611be",
   "metadata": {},
   "outputs": [],
   "source": [
    "cycles = np.logspace(1., 8., 70)\n",
    "load = wc.basquin_load(cycles)\n",
    "plt.loglog()\n",
    "plt.plot(cycles, load)"
   ]
  },
  {
   "cell_type": "markdown",
   "id": "37dbe42e",
   "metadata": {},
   "source": [
    "## Optional parameters\n",
    "\n",
    "### The second slope `k_2`\n",
    "\n",
    "You can optinally add a second slope `k_2` to the Wöhler curve data which is valid beyond `ND`."
   ]
  },
  {
   "cell_type": "code",
   "execution_count": null,
   "id": "1d9e7300",
   "metadata": {},
   "outputs": [],
   "source": [
    "woehler_curve_data = pd.Series({\n",
    "    'SD': 300.,\n",
    "    'ND': 1.5e6,\n",
    "    'k_1': 6.2,\n",
    "    'k_2': 13.3\n",
    "})\n",
    "plt.loglog()\n",
    "plt.plot(cycles, woehler_curve_data.woehler.basquin_load(cycles))\n"
   ]
  },
  {
   "cell_type": "code",
   "execution_count": null,
   "id": "f44a0aea",
   "metadata": {},
   "outputs": [],
   "source": [
    "wc_data.fatigue.damage(load_collective)"
   ]
  },
  {
   "cell_type": "markdown",
   "id": "d5ba9e58",
   "metadata": {},
   "source": [
    "### The failure probability and the scatter values `TN` and `TS`.\n",
    "\n",
    "As everyone knows, material fatigue is a statistical phenomenon. That means that the cycles calculated for a certain load are the cycles at which the specimen fails with a certain probability.  By default the failure probability is 50%."
   ]
  },
  {
   "cell_type": "code",
   "execution_count": null,
   "id": "a9eecfeb",
   "metadata": {},
   "outputs": [],
   "source": [
    "woehler_curve_data.woehler.failure_probability"
   ]
  },
  {
   "cell_type": "markdown",
   "id": "fa2c8d5b",
   "metadata": {},
   "source": [
    "You can provide values for the scattering of the Wöhler curve:"
   ]
  },
  {
   "cell_type": "code",
   "execution_count": null,
   "id": "74728085",
   "metadata": {},
   "outputs": [],
   "source": [
    "woehler_curve_data = pd.Series({\n",
    "    'SD': 300.,\n",
    "    'ND': 1.5e6,\n",
    "    'k_1': 6.2,\n",
    "    'TS': 1.25,\n",
    "    'TN': 4.0\n",
    "})"
   ]
  },
  {
   "cell_type": "markdown",
   "id": "b5744154",
   "metadata": {},
   "source": [
    "Now you can then transform this Wöhlercurve to another failure probability:"
   ]
  },
  {
   "cell_type": "code",
   "execution_count": null,
   "id": "017518ca",
   "metadata": {},
   "outputs": [],
   "source": [
    "woehler_curve_data.woehler.transform_to_failure_probability(0.9).to_pandas()"
   ]
  },
  {
   "cell_type": "markdown",
   "id": "f581065e",
   "metadata": {},
   "source": [
    "As convenience you can provide the failure probability as a optional parameter to the `basquin_load()` and `basquin_cycles()` methods."
   ]
  },
  {
   "cell_type": "code",
   "execution_count": null,
   "id": "24d7b8cd",
   "metadata": {},
   "outputs": [],
   "source": [
    "wc = WoehlerCurve(woehler_curve_data)\n",
    "plt.loglog()\n",
    "for fp in [0.1, 0.5, 0.9]:\n",
    "    plt.plot(cycles, wc.basquin_load(cycles, failure_probability=fp), label=\"%f\" % fp)\n",
    "    \n",
    "plt.legend()"
   ]
  }
 ],
 "metadata": {
  "kernelspec": {
   "display_name": "Python 3 (ipykernel)",
   "language": "python",
   "name": "python3"
  },
  "language_info": {
   "codemirror_mode": {
    "name": "ipython",
    "version": 3
   },
   "file_extension": ".py",
   "mimetype": "text/x-python",
   "name": "python",
   "nbconvert_exporter": "python",
   "pygments_lexer": "ipython3"
  }
 },
 "nbformat": 4,
 "nbformat_minor": 5
}
