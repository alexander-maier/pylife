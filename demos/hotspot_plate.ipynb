{
 "cells": [
  {
   "cell_type": "markdown",
   "metadata": {
    "ein.tags": "worksheet-0",
    "slideshow": {
     "slide_type": "-"
    }
   },
   "source": [
    "# Hotspot calculation demo\n"
   ]
  },
  {
   "cell_type": "markdown",
   "metadata": {},
   "source": [
    "This notebook detects and classifies hotspots of the von Mises stress in a connected FEM mesh. Each element/node entry of the mesh receives a number of the hotspot it is member of. \"0\" means the element/node is not part of any hotspots. \"1\" means that the element/node is part of the hotspot with the highes peak, \"2\" the same for the second highest peak and so forth.\n",
    "\n",
    "See [module documentation](https://pylife.readthedocs.io/en/latest/mesh/hotspot.html) further details."
   ]
  },
  {
   "cell_type": "code",
   "execution_count": null,
   "metadata": {},
   "outputs": [],
   "source": [
    "import numpy as np\n",
    "import pylife\n",
    "import pandas as pd\n",
    "import scipy.stats as stats\n",
    "import pylife.stress.equistress\n",
    "import pylife.strength.meanstress\n",
    "import pylife.mesh.hotspot\n",
    "import pylife.vmap\n",
    "\n",
    "import pyvista as pv\n"
   ]
  },
  {
   "cell_type": "code",
   "execution_count": null,
   "metadata": {},
   "outputs": [],
   "source": [
    "vm_mesh = pylife.vmap.VMAP(\"plate_with_hole.vmap\")\n",
    "pyLife_mesh = (vm_mesh.make_mesh('1', 'STATE-2')\n",
    "               .join_coordinates()\n",
    "               .join_variable('STRESS_CAUCHY')\n",
    "               .join_variable('DISPLACEMENT')\n",
    "               .to_frame())"
   ]
  },
  {
   "cell_type": "markdown",
   "metadata": {},
   "source": [
    "## Equivalent stress calculation"
   ]
  },
  {
   "cell_type": "code",
   "execution_count": null,
   "metadata": {},
   "outputs": [],
   "source": [
    "pyLife_mesh['mises'] = pyLife_mesh.equistress.mises()"
   ]
  },
  {
   "cell_type": "markdown",
   "metadata": {},
   "source": [
    "## Hot spot Calculation ##"
   ]
  },
  {
   "cell_type": "code",
   "execution_count": null,
   "metadata": {},
   "outputs": [],
   "source": [
    "threshold = .9 # factor of the maximum local value\n",
    "pyLife_mesh['hotspot'] = pyLife_mesh.hotspot.calc(\"mises\", threshold)\n",
    "display(pyLife_mesh[['x', 'y', 'z', 'mises', 'hotspot']])"
   ]
  },
  {
   "cell_type": "code",
   "execution_count": null,
   "metadata": {},
   "outputs": [],
   "source": [
    "print(\"%d hotspots found over the threshold\" % pyLife_mesh['hotspot'].max())"
   ]
  },
  {
   "cell_type": "code",
   "execution_count": null,
   "metadata": {},
   "outputs": [],
   "source": [
    "# plotting using pyvista\n",
    "pyLife_nodes = pyLife_mesh.groupby('node_id').mean()\n",
    "mesh = pv.PolyData(pyLife_nodes[['x', 'y', 'z']].values)\n",
    "mesh.point_arrays[\"hotspot\"] = pyLife_nodes[\"hotspot\"].values\n",
    "mesh.plot(scalars=\"hotspot\",log_scale = False)"
   ]
  },
  {
   "cell_type": "markdown",
   "metadata": {},
   "source": [
    "### First hotspot"
   ]
  },
  {
   "cell_type": "code",
   "execution_count": null,
   "metadata": {},
   "outputs": [],
   "source": [
    "display(pyLife_mesh[pyLife_mesh['hotspot'] == 1])"
   ]
  },
  {
   "cell_type": "code",
   "execution_count": null,
   "metadata": {},
   "outputs": [],
   "source": []
  }
 ],
 "metadata": {
  "kernelspec": {
   "display_name": "Python 3",
   "language": "python",
   "name": "python3"
  },
  "language_info": {
   "codemirror_mode": {
    "name": "ipython",
    "version": 3
   },
   "file_extension": ".py",
   "mimetype": "text/x-python",
   "name": "python",
   "nbconvert_exporter": "python",
   "pygments_lexer": "ipython3",
   "version": "3.8.5"
  }
 },
 "nbformat": 4,
 "nbformat_minor": 2
}
